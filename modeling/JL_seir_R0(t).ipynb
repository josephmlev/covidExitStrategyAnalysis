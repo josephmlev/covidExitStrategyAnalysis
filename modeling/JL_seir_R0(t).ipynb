{
 "cells": [
  {
   "cell_type": "code",
   "execution_count": 3,
   "metadata": {},
   "outputs": [],
   "source": [
    "import numpy as np\n",
    "import scipy.integrate as sp\n",
    "import matplotlib.pyplot as plt"
   ]
  },
  {
   "cell_type": "code",
   "execution_count": 214,
   "metadata": {},
   "outputs": [],
   "source": []
  },
  {
   "cell_type": "code",
   "execution_count": 294,
   "metadata": {},
   "outputs": [],
   "source": [
    "def diff_eqs(init, t, s, g):\n",
    "    S, E, I, R, R_0 = init # Initial conditions\n",
    "    if t > 50:\n",
    "        R_0 = 0\n",
    "    b = R_0 * g\n",
    "    \n",
    "    \n",
    "    dR_0 = 0\n",
    "    dS = (-b * S * I) # Change in susceptible population\n",
    "    dE = ( b * S * I) - (s * E) # Change in Exposed population\n",
    "    dI = (s * E) - (g * I) # change in Infected population\n",
    "    dR = (g * I)  # Change in removed individuals\n",
    "    return dS, dE, dI, dR, dR_0\n",
    "\n",
    "g = 1/4 #day^-1, recovery rate\n",
    "s = 1/3 #day^-1, incubation\n",
    "\n",
    "I0 = 0.0\n",
    "E0 = 0.001\n",
    "R0 = 0.0\n",
    "S0 = 1 - I0 - E0 - R0\n",
    "R_00 = 1.6\n",
    "init = S0, I0, E0, R0, R_00\n",
    "sol = sp.odeint(diff_eqs, init, t, args = ( s, g,))"
   ]
  },
  {
   "cell_type": "code",
   "execution_count": 284,
   "metadata": {},
   "outputs": [],
   "source": [
    "def seir(init, t, s, g):\n",
    "    S, E, I, R, R_0 = init\n",
    "\n",
    "    b = R_0 * g #day^-1,\n",
    "    dR_0 = 0\n",
    "\n",
    "    dS = (-b * S * I)\n",
    "    dE = ( b * S * I) - (s * E)\n",
    "    dI = (s * E) - (g * I)\n",
    "    dR = (g * I)\n",
    "    return dS, dE, dI, dR, dR_0\n",
    "\n",
    "# set constants\n",
    "g = 1/4 #day^-1, recovery rate\n",
    "s = 1/3 #day^-1, incubation\n",
    "\n",
    "#set initial conditions\n",
    "I0 = 0\n",
    "E0 = 0.001\n",
    "R0 = 0\n",
    "S0 = 1 - I0 - E0 - R0\n",
    "R_00 = 1.2\n",
    "\n",
    "init = S0, E0, I0, R0, R_00 #pass in R_00\n",
    "\n",
    "#build time step array\n",
    "tstop = 150 #days\n",
    "tstep = 10 * tstop\n",
    "t = np.linspace(0, tstop, tstep) \n",
    "\n",
    "\n",
    "sol = sp.odeint(seir, init, t, args = (s, g))"
   ]
  },
  {
   "cell_type": "code",
   "execution_count": 296,
   "metadata": {},
   "outputs": [
    {
     "data": {
      "text/plain": [
       "<matplotlib.legend.Legend at 0x151d9e4fd0>"
      ]
     },
     "execution_count": 296,
     "metadata": {},
     "output_type": "execute_result"
    },
    {
     "data": {
      "image/png": "[encoded data removed]",
      "text/plain": [
       "<Figure size 432x288 with 1 Axes>"
      ]
     },
     "metadata": {
      "needs_background": "light"
     },
     "output_type": "display_data"
    }
   ],
   "source": [
    "plt.figure(1)\n",
    "plt.plot(t, sol[:, 0], label = 'Susceptible')\n",
    "plt.plot(t, sol[:, 1], label = 'Exposed')\n",
    "plt.plot(t, sol[:, 2], label = 'Infectious')\n",
    "plt.plot(t, sol[:, 3], label = 'Recovered')\n",
    "plt.plot(t, sol[:, 4], label = 'R0')\n",
    "plt.xlabel('time (days)')\n",
    "plt.ylabel('percent of population')\n",
    "plt.legend()"
   ]
  },
  {
   "cell_type": "code",
   "execution_count": 236,
   "metadata": {},
   "outputs": [
    {
     "data": {
      "text/plain": [
       "'\\ny = np.zeros(4) # S, E, I, R\\ny[0] = .99 #Susceptible\\ny[1] = 0 #Exposed\\ny[2] = .01 #Infectious\\ny[3] = 0 #Recovered\\n\\n\\n\\ntstop = 1000 #days\\ntstep = 10 * tstop\\nt = np.linspace(0, tstop, tstep) \\n'"
      ]
     },
     "execution_count": 236,
     "metadata": {},
     "output_type": "execute_result"
    }
   ],
   "source": [
    "'''\n",
    "y = np.zeros(4) # S, E, I, R\n",
    "y[0] = .99 #Susceptible\n",
    "y[1] = 0 #Exposed\n",
    "y[2] = .01 #Infectious\n",
    "y[3] = 0 #Recovered\n",
    "\n",
    "\n",
    "\n",
    "tstop = 1000 #days\n",
    "tstep = 10 * tstop\n",
    "t = np.linspace(0, tstop, tstep) \n",
    "'''"
   ]
  },
  {
   "cell_type": "code",
   "execution_count": 20,
   "metadata": {},
   "outputs": [
    {
     "data": {
      "text/plain": [
       "'\\n#build r time dependance for non coupled r\\nr = {}\\nfor i, time in enumerate(t):\\n    r[str(time)] = 2*np.sin(t[i]/5)**2\\n#rList = [r[time] for time in t]\\nr\\n\\nrList = (2*np.sin(t/5))**2\\n'"
      ]
     },
     "execution_count": 20,
     "metadata": {},
     "output_type": "execute_result"
    }
   ],
   "source": [
    "'''\n",
    "#build r time dependance for non coupled r\n",
    "r = {}\n",
    "for i, time in enumerate(t):\n",
    "    r[str(time)] = 2*np.sin(t[i]/5)**2\n",
    "#rList = [r[time] for time in t]\n",
    "r\n",
    "\n",
    "rList = (2*np.sin(t/5))**2\n",
    "'''"
   ]
  },
  {
   "cell_type": "code",
   "execution_count": 259,
   "metadata": {},
   "outputs": [
    {
     "data": {
      "text/plain": [
       "array([[9.99000000e-01, 0.00000000e+00, 1.00000000e-03, 0.00000000e+00,\n",
       "        1.00000000e+00],\n",
       "       [9.98974832e-01, 2.47458947e-05, 9.75228598e-04, 2.51933888e-05,\n",
       "        1.00000000e+00],\n",
       "       [9.98950279e-01, 4.80572276e-05, 9.51891767e-04, 4.97715894e-05,\n",
       "        1.00000000e+00],\n",
       "       [9.98926302e-01, 7.00259586e-05, 9.29897556e-04, 7.37740101e-05,\n",
       "        1.00000000e+00],\n",
       "       [9.98902877e-01, 9.07079206e-05, 9.09190134e-04, 9.72245785e-05,\n",
       "        1.00000000e+00],\n",
       "       [9.98879963e-01, 1.10199309e-04, 8.89673312e-04, 1.20164519e-04,\n",
       "        1.00000000e+00],\n",
       "       [9.98857530e-01, 1.28567234e-04, 8.71279979e-04, 1.42622593e-04,\n",
       "        1.00000000e+00],\n",
       "       [9.98835553e-01, 1.45873798e-04, 8.53948035e-04, 1.64625417e-04,\n",
       "        1.00000000e+00],\n",
       "       [9.98814005e-01, 1.62179604e-04, 8.37616874e-04, 1.86198963e-04,\n",
       "        1.00000000e+00],\n",
       "       [9.98792862e-01, 1.77540386e-04, 8.22230760e-04, 2.07367120e-04,\n",
       "        1.00000000e+00],\n",
       "       [9.98772098e-01, 1.92017005e-04, 8.07728831e-04, 2.28155971e-04,\n",
       "        1.00000000e+00],\n",
       "       [9.98751695e-01, 2.05654531e-04, 7.94066011e-04, 2.48584835e-04,\n",
       "        1.00000000e+00],\n",
       "       [9.98731629e-01, 2.18504767e-04, 7.81190495e-04, 2.68675915e-04,\n",
       "        1.00000000e+00],\n",
       "       [9.98711881e-01, 2.30612797e-04, 7.69057192e-04, 2.88448535e-04,\n",
       "        1.00000000e+00],\n",
       "       [9.98692435e-01, 2.42020773e-04, 7.57623945e-04, 3.07920763e-04,\n",
       "        1.00000000e+00],\n",
       "       [9.98673271e-01, 2.52768031e-04, 7.46851414e-04, 3.27109458e-04,\n",
       "        1.00000000e+00],\n",
       "       [9.98654374e-01, 2.62894592e-04, 7.36699570e-04, 3.46031776e-04,\n",
       "        1.00000000e+00],\n",
       "       [9.98635728e-01, 2.72435365e-04, 7.27133501e-04, 3.64702679e-04,\n",
       "        1.00000000e+00],\n",
       "       [9.98617320e-01, 2.81422537e-04, 7.18121011e-04, 3.83135965e-04,\n",
       "        1.00000000e+00],\n",
       "       [9.98599136e-01, 2.89889525e-04, 7.09628680e-04, 4.01345956e-04,\n",
       "        1.00000000e+00],\n",
       "       [9.98581161e-01, 2.97866729e-04, 7.01626099e-04, 4.19345685e-04,\n",
       "        1.00000000e+00],\n",
       "       [9.98563385e-01, 3.05382131e-04, 6.94085281e-04, 4.37147145e-04,\n",
       "        1.00000000e+00],\n",
       "       [9.98545796e-01, 3.12462695e-04, 6.86979258e-04, 4.54761894e-04,\n",
       "        1.00000000e+00],\n",
       "       [9.98528383e-01, 3.19133680e-04, 6.80282761e-04, 4.72200760e-04,\n",
       "        1.00000000e+00],\n",
       "       [9.98511136e-01, 3.25418073e-04, 6.73972800e-04, 4.89473596e-04,\n",
       "        1.00000000e+00],\n",
       "       [9.98494044e-01, 3.31339004e-04, 6.68026238e-04, 5.06590316e-04,\n",
       "        1.00000000e+00],\n",
       "       [9.98477101e-01, 3.36917106e-04, 6.62422438e-04, 5.23559764e-04,\n",
       "        1.00000000e+00],\n",
       "       [9.98460296e-01, 3.42172086e-04, 6.57141686e-04, 5.40390387e-04,\n",
       "        1.00000000e+00],\n",
       "       [9.98443622e-01, 3.47122503e-04, 6.52165417e-04, 5.57090141e-04,\n",
       "        1.00000000e+00],\n",
       "       [9.98427071e-01, 3.51786463e-04, 6.47475520e-04, 5.73666788e-04,\n",
       "        1.00000000e+00],\n",
       "       [9.98410637e-01, 3.56180369e-04, 6.43055589e-04, 5.90127356e-04,\n",
       "        1.00000000e+00],\n",
       "       [9.98394312e-01, 3.60319580e-04, 6.38890257e-04, 6.06478429e-04,\n",
       "        1.00000000e+00],\n",
       "       [9.98378090e-01, 3.64218571e-04, 6.34965046e-04, 6.22726213e-04,\n",
       "        1.00000000e+00],\n",
       "       [9.98361966e-01, 3.67891052e-04, 6.31266240e-04, 6.38876583e-04,\n",
       "        1.00000000e+00],\n",
       "       [9.98345934e-01, 3.71349880e-04, 6.27780978e-04, 6.54935049e-04,\n",
       "        1.00000000e+00],\n",
       "       [9.98329989e-01, 3.74607073e-04, 6.24497238e-04, 6.70906762e-04,\n",
       "        1.00000000e+00],\n",
       "       [9.98314126e-01, 3.77674375e-04, 6.21403271e-04, 6.86796756e-04,\n",
       "        1.00000000e+00],\n",
       "       [9.98298339e-01, 3.80563169e-04, 6.18487691e-04, 7.02609910e-04,\n",
       "        1.00000000e+00],\n",
       "       [9.98282625e-01, 3.83284577e-04, 6.15739371e-04, 7.18350989e-04,\n",
       "        1.00000000e+00],\n",
       "       [9.98266978e-01, 3.85849581e-04, 6.13147325e-04, 7.34024700e-04,\n",
       "        1.00000000e+00],\n",
       "       [9.98251395e-01, 3.88267022e-04, 6.10702710e-04, 7.49634831e-04,\n",
       "        1.00000000e+00],\n",
       "       [9.98235873e-01, 3.90544062e-04, 6.08398359e-04, 7.65184453e-04,\n",
       "        1.00000000e+00],\n",
       "       [9.98220408e-01, 3.92688792e-04, 6.06226177e-04, 7.80677031e-04,\n",
       "        1.00000000e+00],\n",
       "       [9.98204997e-01, 3.94708880e-04, 6.04178495e-04, 7.96115851e-04,\n",
       "        1.00000000e+00],\n",
       "       [9.98189636e-01, 3.96611614e-04, 6.02248021e-04, 8.11504035e-04,\n",
       "        1.00000000e+00],\n",
       "       [9.98174324e-01, 3.98403942e-04, 6.00427804e-04, 8.26844562e-04,\n",
       "        1.00000000e+00],\n",
       "       [9.98159056e-01, 4.00092028e-04, 5.98711676e-04, 8.42140070e-04,\n",
       "        1.00000000e+00],\n",
       "       [9.98143831e-01, 4.01681595e-04, 5.97093913e-04, 8.57393013e-04,\n",
       "        1.00000000e+00],\n",
       "       [9.98128647e-01, 4.03178251e-04, 5.95568904e-04, 8.72605792e-04,\n",
       "        1.00000000e+00],\n",
       "       [9.98113501e-01, 4.04587311e-04, 5.94131331e-04, 8.87780684e-04,\n",
       "        1.00000000e+00]])"
      ]
     },
     "execution_count": 259,
     "metadata": {},
     "output_type": "execute_result"
    }
   ],
   "source": [
    "sol"
   ]
  },
  {
   "cell_type": "code",
   "execution_count": null,
   "metadata": {},
   "outputs": [],
   "source": []
  }
 ],
 "metadata": {
  "kernelspec": {
   "display_name": "Python 3",
   "language": "python",
   "name": "python3"
  },
  "language_info": {
   "codemirror_mode": {
    "name": "ipython",
    "version": 3
   },
   "file_extension": ".py",
   "mimetype": "text/x-python",
   "name": "python",
   "nbconvert_exporter": "python",
   "pygments_lexer": "ipython3",
   "version": "3.7.6"
  }
 },
 "nbformat": 4,
 "nbformat_minor": 2
}
