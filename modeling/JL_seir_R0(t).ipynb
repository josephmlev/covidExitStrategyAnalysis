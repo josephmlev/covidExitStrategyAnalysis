{
 "cells": [
  {
   "cell_type": "code",
   "execution_count": 2,
   "metadata": {},
   "outputs": [],
   "source": [
    "import numpy as np\n",
    "import scipy.integrate as sp\n",
    "import matplotlib.pyplot as plt"
   ]
  },
  {
   "cell_type": "code",
   "execution_count": 46,
   "metadata": {},
   "outputs": [],
   "source": [
    "def seir(y, time, g, k, r):\n",
    "    S, E, I, R = y\n",
    "    #r = (2*np.sin(time/5))**2\n",
    "    #r = 2\n",
    "    N = y.sum() #total population, just keep it 1\n",
    "    b = r * g #day^-1, \n",
    "    \n",
    "    dS = (-b * S * I/N)\n",
    "    dE = ( b * S * I/N) - (k * E)\n",
    "    dI = (k * E) - (g * I)\n",
    "    dR = (g * I)\n",
    "    \n",
    "    dydt=[dS,dE,dI,dR]\n",
    "    return dydt"
   ]
  },
  {
   "cell_type": "code",
   "execution_count": 55,
   "metadata": {},
   "outputs": [],
   "source": [
    "y = np.zeros(4) # S, E, I, R\n",
    "y[0] = .99 #Susceptible\n",
    "y[1] = 0 #Exposed\n",
    "y[2] = .01 #Infectious\n",
    "y[3] = 0 #Recovered\n",
    "\n",
    "g = 1/4 #day^-1, recovery rate\n",
    "k = 1/3 #day^-1, incubation\n",
    "r = 1.1   #dimentionless, reproduction number\n",
    "\n",
    "tstop = 1000 #days\n",
    "tstep = 10 * tstop\n",
    "t = np.linspace(0, tstop, tstep) "
   ]
  },
  {
   "cell_type": "code",
   "execution_count": 56,
   "metadata": {},
   "outputs": [],
   "source": [
    "'''\n",
    "#build r time dependance for non coupled r\n",
    "r = {}\n",
    "for i, time in enumerate(t):\n",
    "    r[str(time)] = 2*np.sin(t[i]/5)**2\n",
    "#rList = [r[time] for time in t]\n",
    "r\n",
    "'''\n",
    "rList = (2*np.sin(t/5))**2"
   ]
  },
  {
   "cell_type": "code",
   "execution_count": 57,
   "metadata": {},
   "outputs": [],
   "source": [
    "sol = sp.odeint(seir, y, t, (g, k, r))"
   ]
  },
  {
   "cell_type": "code",
   "execution_count": 58,
   "metadata": {},
   "outputs": [
    {
     "data": {
      "text/plain": [
       "<matplotlib.legend.Legend at 0x11a459e80>"
      ]
     },
     "execution_count": 58,
     "metadata": {},
     "output_type": "execute_result"
    },
    {
     "data": {
      "image/png": "[encoded data removed]",
      "text/plain": [
       "<Figure size 432x288 with 1 Axes>"
      ]
     },
     "metadata": {
      "needs_background": "light"
     },
     "output_type": "display_data"
    }
   ],
   "source": [
    "plt.figure(1)\n",
    "plt.plot(t, sol[:, 0], label = 'Susceptible')\n",
    "plt.plot(t, sol[:, 1], label = 'Exposed')\n",
    "plt.plot(t, sol[:, 2], label = 'Infectious')\n",
    "plt.plot(t, sol[:, 3], label = 'Recovered')\n",
    "#plt.plot(t, rList, label = 'R0')\n",
    "plt.xlabel('time (days)')\n",
    "plt.ylabel('percent of population')\n",
    "plt.legend()"
   ]
  },
  {
   "cell_type": "code",
   "execution_count": null,
   "metadata": {},
   "outputs": [],
   "source": []
  },
  {
   "cell_type": "code",
   "execution_count": null,
   "metadata": {},
   "outputs": [],
   "source": []
  }
 ],
 "metadata": {
  "kernelspec": {
   "display_name": "Python 3",
   "language": "python",
   "name": "python3"
  },
  "language_info": {
   "codemirror_mode": {
    "name": "ipython",
    "version": 3
   },
   "file_extension": ".py",
   "mimetype": "text/x-python",
   "name": "python",
   "nbconvert_exporter": "python",
   "pygments_lexer": "ipython3",
   "version": "3.6.1"
  }
 },
 "nbformat": 4,
 "nbformat_minor": 2
}
