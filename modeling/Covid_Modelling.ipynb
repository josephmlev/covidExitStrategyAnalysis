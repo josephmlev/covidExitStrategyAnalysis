{
 "cells": [
  {
   "cell_type": "markdown",
   "metadata": {},
   "source": [
    "# Motivation\n",
    "\n",
    "The opening of society during an active Covid19 pandemic means reproductive rate $R_0$ is a function of time $R_0 \\rightarrow R_0(t)$. In an effort to gain insight to possible reopening methods and consequences of demographic stochasticity. As such a model is needed with the ability to paramaterize the spread rate to an observable. It is common to use the confirmed cases as a metric, but historical under reporting during other epidemics makes it unceartain. Instead we will attempt to relate other data such as the number of deaths and the hospitalization data to parameterize $R_0$.\n",
    "\n",
    "## Basic SEIR Model\n",
    "\n",
    "Current concensus among medical research suggest that the incubation time for Covid19 has a typical range of $\\tau_inc = \\in [2,14]$ days(CITE). As such we will include the exposed population function. All in all, susceptable $S(t)$, exposed $E(t)$, infectious $I(t)$, removed $R(t)$ persons are going to be tracked. The following assumptions are made regarding changing populations. Any change in *susceptible* population is a result of birth/deaths or exposure to the infection. People catagorized as *exposed* either die of natural causes or enter an *infectious* period. Those that become infectious either recover or die as a result of the virus or by natural cuases. Finally, the *removed* population can only decrease from natural causes.The simplest equations for rates of change in S, E, I, R are below. \n",
    "\n",
    "$$\\frac{dS}{dt} = \\mu N - S \\left( \\beta \\frac{I}{N} + \\mu \\right) $$\n",
    "\n",
    "$$\\frac{dE}{dt} = \\beta \\frac{S I}{N} - E(\\sigma + \\mu) $$\n",
    "\n",
    "$$\\frac{dI}{dt} = \\sigma E - I(\\gamma + \\mu) $$\n",
    "\n",
    "$$\\frac{dR}{dt} = \\gamma I - \\mu R$$\n",
    "\n",
    "### Function Arguements\n",
    "\n",
    "Above the rates moving people from one category to another are taken to be constant.Eventually, we will add a driving function which varies over time. A list of the variable and thier meaning follows:\n",
    "- $\\mu$ = *Births/Deaths frequency* $[T^{-1}]$ *This could also be considered as*$[Pop \\ T^{-1}]$ and remove the N\n",
    "- $\\beta$ = *Contact frequency* $[T^{-1}]$\n",
    "- $\\sigma$ = *Latent frequncy* $[T^{-1}]$\n",
    "- $\\gamma$ = *Removal frequency* $[T^{-1}]$\n",
    "The only known variable is $\\mu$, found using US cencus population data for average life expectancy, the rate is the inverse. The rest must be inferred from fitting reported observables.\n",
    "\n",
    "### Basic Reproduction Number $R_0$\n",
    "\n",
    "The basic reproduction number, $R_0$ is widely employed to describe the growth of a pandemic. Define by (Cite), $R_0$ is the average number of secondary cases arising from an average primary case in an entirely susceptible population. $R_0$ is the inverse of the relative removal rate. It helps to consider the SIR model where now exposed and infectious populations are reduced to a single infected population, $G$. If we make a ratio of the rates decreasing $G$ and those increasing, we obtain $R_0^{-1}$. \n",
    "\n",
    "$$ G = I + E $$\n",
    "\n",
    "$$ \\frac{dG}{dt} = \\frac{dI}{dt} + \\frac{dE}{dt}$$\n",
    "\n",
    "$$ \\frac{dG}{dt} = \\beta \\frac{S I}{N} - (\\mu(E+I) + I\\gamma)$$ \n",
    "\n",
    "Now that we have a clear distinction for increasing $G^+$ and decreasing $G^-$ terms we can find the inverse of $R_0$. Also notice that the reproductive rate includes deaths not directly resulting from the infection.\n",
    "\n",
    "$$ R_0^{-1} = \\frac{G^-}{G^+}$$\n",
    "\n",
    "$$ R_0^{-1} = \\frac{\\mu(E+I) + I\\gamma}{\\beta \\frac{S I}{N}}$$\n",
    "\n",
    "$$ R_0^{-1} = \\frac{\\mu G + I\\gamma}{\\beta S I} N$$\n",
    "\n",
    "$$ R_0^{-1} = N\\frac{\\gamma}{\\beta S} + N\\frac{\\mu G}{\\beta S I} $$\n",
    "\n",
    "$$ R_0^{-1} = \\frac{N}{S} \\left( \\frac{\\gamma}{\\beta} + \\frac{\\mu G}{\\beta I} \\right) $$\n",
    "\n",
    "The above form for $R_0^{-1}$ is reminescent of an expansion, where if the second term is sufficiently small we can approximate the reproductive rate as the following. \n",
    "\n",
    "$$ R_0 = \\frac{\\beta}{\\gamma} \\frac{S}{N} $$\n",
    "\n",
    "Later, demographic effects can be modelled by introducing a contact driving function. Implimented counter spread measures can be modelled by breaking the pandemic into different timme periods with varying $R_0$ values or functions of time, $R_0(t)$.\n",
    "\n",
    "## Modelling SEIR\n",
    "\n",
    "The set of ODE's can be easily solved using scipy's *odeint()*. The first requirement is to make a function which supplies the system of equations and an initial value array."
   ]
  },
  {
   "cell_type": "code",
   "execution_count": 16,
   "metadata": {},
   "outputs": [],
   "source": [
    "import pylab as py\n",
    "from scipy.integrate import odeint"
   ]
  },
  {
   "cell_type": "code",
   "execution_count": 23,
   "metadata": {},
   "outputs": [],
   "source": [
    "N = 1; I0 = 0.01; E0 = 0.01; R0 = 0.0\n",
    "S0 = N - I0 - E0\n",
    "initial_c = S0, I0, E0, R0\n",
    "\n",
    "def diff_eqs(Init, t, m, b, s, g):\n",
    "    S, I, E, R = Init # Initial conditions\n",
    "    dSdt = m * N - S * (b * (I/N) + m) # Change in susceptible population\n",
    "    dEdt = b * I * S / N - E * (s + m) # Change in Exposed population\n",
    "    dIdt = s * E - I * (g + m) # change in Infected population\n",
    "    dRdt = g * I - m * R # Change in removed individuals\n",
    "    return dSdt, dEdt, dIdt, dRdt"
   ]
  },
  {
   "cell_type": "markdown",
   "metadata": {},
   "source": [
    "We must also create an array to pass time and list of arguements for *diff_eqs*. The arguements used here are taken from (cite cyclic paper, page 8), and $R_0=1.5$. Later, $\\beta$ can be derived using our equation for $R_0$ and reported values for the infectious period, $\\gamma^{-1}$. Becuase data is reported on a daily basis the time step used will be 1 day, all temporal units are in days. Ideally, the natural time scale is the time it takes for an infectious person to join the removed group, $\\gamma^{-1}r $."
   ]
  },
  {
   "cell_type": "code",
   "execution_count": 27,
   "metadata": {},
   "outputs": [],
   "source": [
    "dt = 1; t0 = 0; tmax = 100\n",
    "time = py.arange(t0, tmax+dt, dt)\n",
    "\n",
    "R_0 = 1.5\n",
    "m = 1/78.6;  g = 1/4; s = 1/3; b = R_0/g * N/S0\n",
    "args = m, b, s, g"
   ]
  },
  {
   "cell_type": "markdown",
   "metadata": {},
   "source": [
    "We are ready to obtain our solution for the SEIR model. The following code solves the system of equations derived for the SEIR model. Results are plotted, where the total population is scaled to 1."
   ]
  },
  {
   "cell_type": "code",
   "execution_count": 28,
   "metadata": {},
   "outputs": [],
   "source": [
    "solution = odeint(diff_eqs, initial_c, time, args=(m, b, s, g))\n",
    "S, E, I, R = solution.T"
   ]
  },
  {
   "cell_type": "markdown",
   "metadata": {},
   "source": [
    "### Plotting SEIR"
   ]
  },
  {
   "cell_type": "code",
   "execution_count": 30,
   "metadata": {},
   "outputs": [
    {
     "data": {
      "image/png": "[encoded data removed]",
      "text/plain": [
       "<Figure size 1152x576 with 1 Axes>"
      ]
     },
     "metadata": {
      "needs_background": "light"
     },
     "output_type": "display_data"
    }
   ],
   "source": [
    "# Plot the results to verify model works\n",
    "title = 'SIR Model'\n",
    "py.close('all')\n",
    "py.figure(figsize=(16,8))\n",
    "py.title(title)\n",
    "py.plot(time, S, color='blue', label='Susceptible', linewidth=1.5)\n",
    "py.plot(time, E, color='orange', label='Exposed', linewidth=1.5)\n",
    "py.plot(time, I, color='red', label='Infectious', linewidth=1.5)\n",
    "py.plot(time, R, color='green', label='Recovered', linewidth=1.5)\n",
    "py.legend(frameon=True)\n",
    "py.xlabel('Days'); py.ylabel('Population'); py.grid()\n",
    "py.show()"
   ]
  },
  {
   "cell_type": "code",
   "execution_count": null,
   "metadata": {},
   "outputs": [],
   "source": []
  }
 ],
 "metadata": {
  "kernelspec": {
   "display_name": "Python 3",
   "language": "python",
   "name": "python3"
  },
  "language_info": {
   "codemirror_mode": {
    "name": "ipython",
    "version": 3
   },
   "file_extension": ".py",
   "mimetype": "text/x-python",
   "name": "python",
   "nbconvert_exporter": "python",
   "pygments_lexer": "ipython3",
   "version": "3.7.6"
  }
 },
 "nbformat": 4,
 "nbformat_minor": 4
}
