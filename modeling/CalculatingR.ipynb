{
 "cells": [
  {
   "cell_type": "markdown",
   "metadata": {},
   "source": [
    "### Introduction\n",
    "\n",
    "One of the parameters for the SIR model is the reproductive number $R_0$. In the modelling notebook, it is determined that the analytic solution to $R_0$ is as follows:\n",
    "$$ R_0 = \\frac{\\beta}{\\gamma} \\frac{S}{N} $$\n",
    "Since COVID19 has not yet made a significant impact on the population, $S\\sim N$ we can drop the ratio. If this was not the case the effect on $R_0$ is insignificant against the unceartainty (show this).\n",
    "$$ R_0 = \\frac{\\beta}{\\gamma} $$\n",
    "While we could try to find from various sources a mean and std for $ \\beta $ and $\\gamma$, it may be more practical to find it from reported data. Reported cases should not be a used to judge the growth due to the unknown number of unreported cases, and the intrinsic error from the test themselves. Also obscuring the truth behind confirmed cases is the rate of change of the number of cases. Again, we could find the difference to eliminate the testing impact but we would still have too many unceartainties. \n",
    "\n",
    "Instead lets look to the hospitalization and death rates. First I will argue that the rate of change for any *rate* should be the same. Followed by a method for determining the actual number of cases using the doubling time. A clearer explaination of my arguement is that if at some time $\\tau_0$ the actual number of cases increases by $x$ cases per day then at some later time $\\tau_1$, the number of deaths should increase by $y$ cases per day. If the relation between the number of new cases and new deaths at some later time is approximately linear then their rates of change should be the same:\n",
    "\n",
    "$$\\frac{dI}{dt} = \\beta I $$\n",
    "$$\\frac{d^2I}{dt^2} = \\frac{\\partial}{dt} \\beta +  \\frac{\\partial }{dt} I$$\n",
    "$$\\frac{d^2I}{dt^2} = \\frac{\\partial}{dt} \\beta +  \\beta I$$ \n",
    "$$\\frac{d^2I}{dt^2} = \\frac{\\partial}{dt} \\beta +  \\beta I$$ \n",
    "now for the rate of change of the death rate:\n",
    "\n",
    "$$\\frac{dF}{dt} = d I $$\n",
    "$$\\frac{d^2F}{dt^2} = \\frac{\\partial}{dt} d +  \\frac{\\partial }{dt} I$$\n",
    "$$\\frac{d^2F}{dt^2} = \\frac{\\partial}{dt} d +  \\beta I$$\n",
    "\n",
    "\n",
    "\n"
   ]
  },
  {
   "cell_type": "markdown",
   "metadata": {},
   "source": [
    "Now that both accelerations are found, it becomes obvious that they both depend on the product $\\beta I$. Additionally if the transmission and death rate are constant then the two rates are exactly the same! While this might hold true for the death rate of the virus, the transmission varies in time with human behavior. Additionally it is not the same and should not be treated the same in different populations. Scenarios where the death rate begins to vary include when the susceptible population changes or supporting health systems become overwhelmed and quality of care decreases. The latter will not be addressed here. The changing population will be accounted for by implimenting age categories to the SEIR model. Regardless, we have enough to find the difference between changing new cases and changing new deaths, $\\Delta \\chi$. Sure enough it is the rate of change of $\\beta$. I propose a question regarding the referred time. Should we be looking at $d \\beta /dt$ from the time the dead got infected?\n",
    "\n",
    "$$\\Delta \\chi =  \\frac{d^2I}{dt^2} -\\frac{d^2F}{dt^2} $$\n",
    "$$\\Delta \\chi =  \\frac{\\partial}{dt} \\beta$$"
   ]
  },
  {
   "cell_type": "code",
   "execution_count": null,
   "metadata": {},
   "outputs": [],
   "source": []
  }
 ],
 "metadata": {
  "kernelspec": {
   "display_name": "Python 3",
   "language": "python",
   "name": "python3"
  },
  "language_info": {
   "codemirror_mode": {
    "name": "ipython",
    "version": 3
   },
   "file_extension": ".py",
   "mimetype": "text/x-python",
   "name": "python",
   "nbconvert_exporter": "python",
   "pygments_lexer": "ipython3",
   "version": "3.7.6"
  }
 },
 "nbformat": 4,
 "nbformat_minor": 4
}
